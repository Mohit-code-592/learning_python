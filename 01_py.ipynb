{
  "nbformat": 4,
  "nbformat_minor": 0,
  "metadata": {
    "colab": {
      "provenance": [],
      "authorship_tag": "ABX9TyMcQrIaawyZAhtVgsxSf937",
      "include_colab_link": true
    },
    "kernelspec": {
      "name": "python3",
      "display_name": "Python 3"
    },
    "language_info": {
      "name": "python"
    }
  },
  "cells": [
    {
      "cell_type": "markdown",
      "metadata": {
        "id": "view-in-github",
        "colab_type": "text"
      },
      "source": [
        "<a href=\"https://colab.research.google.com/github/Mohit-code-592/learning_python/blob/main/01_py.ipynb\" target=\"_parent\"><img src=\"https://colab.research.google.com/assets/colab-badge.svg\" alt=\"Open In Colab\"/></a>"
      ]
    },
    {
      "cell_type": "code",
      "execution_count": 1,
      "metadata": {
        "colab": {
          "base_uri": "https://localhost:8080/"
        },
        "id": "zGyvoXpp3V1Z",
        "outputId": "f90ec2ae-c827-46f5-964b-5a6e8c0ed93f"
      },
      "outputs": [
        {
          "output_type": "stream",
          "name": "stdout",
          "text": [
            "Enter Num1 : 5\n",
            "Enter num2 : 7\n",
            "sum of 5 + 7 = 12\n"
          ]
        }
      ],
      "source": [
        "\n",
        "num1 = int(input(\"Enter Num1 : \"))\n",
        "#take input num2\n",
        "num2 = int(input(\"Enter num2 : \"))\n",
        "\n",
        "print(f\"sum of {num1} + {num2} = {num1 + num2}\")"
      ]
    }
  ]
}