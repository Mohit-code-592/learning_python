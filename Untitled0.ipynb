{
  "nbformat": 4,
  "nbformat_minor": 0,
  "metadata": {
    "colab": {
      "provenance": [],
      "authorship_tag": "ABX9TyMRsfu4yxL+JQdtjIK9Ck0N",
      "include_colab_link": true
    },
    "kernelspec": {
      "name": "python3",
      "display_name": "Python 3"
    },
    "language_info": {
      "name": "python"
    }
  },
  "cells": [
    {
      "cell_type": "markdown",
      "metadata": {
        "id": "view-in-github",
        "colab_type": "text"
      },
      "source": [
        "<a href=\"https://colab.research.google.com/github/Mohit-code-592/learning_python/blob/main/Untitled0.ipynb\" target=\"_parent\"><img src=\"https://colab.research.google.com/assets/colab-badge.svg\" alt=\"Open In Colab\"/></a>"
      ]
    },
    {
      "cell_type": "code",
      "execution_count": 1,
      "metadata": {
        "colab": {
          "base_uri": "https://localhost:8080/"
        },
        "id": "QmNkqAXl1WAY",
        "outputId": "83d92e40-03a6-4341-993f-80bf7a999deb"
      },
      "outputs": [
        {
          "output_type": "stream",
          "name": "stdout",
          "text": [
            "Wecome to over shop\n",
            "_______________________________________________________________\n",
            "Product       Amount        discount(%)       final_Amount\n",
            "_______________________________________________________________\n",
            "t_shirt       10000               50             5000.0\n",
            "jeans         800                20                640.0\n",
            "jacket        2000                40               1200.0\n",
            "Cap           250                  10             225.0\n",
            "belt          500                  30               350.0\n",
            "-------------------------------------------------------------\n",
            "_______________________________________________________________\n",
            "Total Amount          Discount(%)          Pay_Amount\n",
            "7415.0                 35                    2595.25\n",
            "_______________________________________________________________\n"
          ]
        }
      ],
      "source": [
        "print(\"Wecome to over shop\")\n",
        "print(\"_______________________________________________________________\")\n",
        "print(\"Product       Amount        discount(%)       final_Amount\")\n",
        "print(\"_______________________________________________________________\")\n",
        "\n",
        "#for t-shirt\n",
        "t_shirt = 10000\n",
        "discount_t_shirt = 50\n",
        "final_Amount_t_shirt = t_shirt - (t_shirt * discount_t_shirt)/100\n",
        "print(f\"t_shirt       {t_shirt}               {discount_t_shirt}             {final_Amount_t_shirt}\")\n",
        "\n",
        "#for jeans\n",
        "jeans = 800\n",
        "discount_jeans = 20\n",
        "final_Amount_jeans = jeans - ((jeans * discount_jeans)/100)\n",
        "print(f\"jeans         {jeans}                {discount_jeans}                {final_Amount_jeans}\")\n",
        "\n",
        "#for jacket\n",
        "jacket = 2000\n",
        "discount_jacket = 40\n",
        "final_Amount_jacket = jacket - ((jacket * discount_jacket)/100)\n",
        "\n",
        "print(f\"jacket        {jacket}                {discount_jacket}               {final_Amount_jacket}\")\n",
        "\n",
        "#for Cap\n",
        "Cap = 250\n",
        "discount_cap = 10\n",
        "final_Amount_cap = Cap - ((Cap * discount_cap)/100)\n",
        "print(f\"Cap           {Cap}                  {discount_cap}             {final_Amount_cap}\")\n",
        "\n",
        "#for belt\n",
        "belt = 500\n",
        "discount_belt = 30\n",
        "final_Amount_belt = belt - ((belt * discount_belt)/100)\n",
        "print(f\"belt          {belt}                  {discount_belt}               {final_Amount_belt}\")\n",
        "\n",
        "print(\"-------------------------------------------------------------\")\n",
        "print(\"_______________________________________________________________\")\n",
        "\n",
        "print(\"Total Amount          Discount(%)          Pay_Amount\")\n",
        "Total_Amount = final_Amount_t_shirt + final_Amount_jeans + final_Amount_belt + final_Amount_cap + final_Amount_jacket\n",
        "\n",
        "final_discount = 35\n",
        "\n",
        "pay_amount = (Total_Amount * final_discount)/100\n",
        "print(f\"{Total_Amount}                 {final_discount}                    {pay_amount}\")\n",
        "\n",
        "print(\"_______________________________________________________________\")\n",
        "\n",
        "\n",
        "\n",
        "\n"
      ]
    }
  ]
}