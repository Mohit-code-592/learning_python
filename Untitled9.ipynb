{
  "nbformat": 4,
  "nbformat_minor": 0,
  "metadata": {
    "colab": {
      "provenance": [],
      "authorship_tag": "ABX9TyP5+toV6cxgP9LS6BUKboR8",
      "include_colab_link": true
    },
    "kernelspec": {
      "name": "python3",
      "display_name": "Python 3"
    },
    "language_info": {
      "name": "python"
    }
  },
  "cells": [
    {
      "cell_type": "markdown",
      "metadata": {
        "id": "view-in-github",
        "colab_type": "text"
      },
      "source": [
        "<a href=\"https://colab.research.google.com/github/Mohit-code-592/learning_python/blob/main/Untitled9.ipynb\" target=\"_parent\"><img src=\"https://colab.research.google.com/assets/colab-badge.svg\" alt=\"Open In Colab\"/></a>"
      ]
    },
    {
      "cell_type": "code",
      "execution_count": 24,
      "metadata": {
        "colab": {
          "base_uri": "https://localhost:8080/"
        },
        "id": "9-XKpWHL9Llb",
        "outputId": "e18f319f-9fbe-4bfe-ebc0-93d5631616b4"
      },
      "outputs": [
        {
          "output_type": "stream",
          "name": "stdout",
          "text": [
            "10\n"
          ]
        }
      ],
      "source": [
        "# digit = 1234\n",
        "# n = len(str(digit))\n",
        "# sum_rem = 0\n",
        "# for j in range(n):\n",
        "#   rem = digit % 10\n",
        "#   digit //= 10\n",
        "#   sum_rem += rem\n",
        "# print(sum_rem)\n"
      ]
    },
    {
      "cell_type": "code",
      "source": [
        "digit = 1234\n",
        "sum_rem = 0\n",
        "while digit != 0:\n",
        "  rem = digit % 10\n",
        "  digit //= 10\n",
        "  sum_rem += rem\n",
        "print(sum_rem)\n"
      ],
      "metadata": {
        "colab": {
          "base_uri": "https://localhost:8080/"
        },
        "id": "_1f6bsI2IKCr",
        "outputId": "9c9549c7-24d8-4d34-b91f-0928dbe5de02"
      },
      "execution_count": 22,
      "outputs": [
        {
          "output_type": "stream",
          "name": "stdout",
          "text": [
            "10\n"
          ]
        }
      ]
    },
    {
      "cell_type": "code",
      "source": [
        "sum_square = 0\n",
        "for i in range(1,101):\n",
        "  sum_square = sum_square + (i * i)\n",
        "print(sum_square)"
      ],
      "metadata": {
        "colab": {
          "base_uri": "https://localhost:8080/"
        },
        "id": "r1spAOAoBGT2",
        "outputId": "66668a8b-fb4f-4187-909d-02299050c22d"
      },
      "execution_count": 7,
      "outputs": [
        {
          "output_type": "stream",
          "name": "stdout",
          "text": [
            "338350\n"
          ]
        }
      ]
    },
    {
      "cell_type": "code",
      "source": [
        "fact = 1\n",
        "for i in range(1,6):\n",
        "  fact *= i\n",
        "print(fact)"
      ],
      "metadata": {
        "colab": {
          "base_uri": "https://localhost:8080/"
        },
        "id": "JoxM3toTCHG_",
        "outputId": "7add3df3-1975-4a9b-99f8-a136a333c74e"
      },
      "execution_count": 10,
      "outputs": [
        {
          "output_type": "stream",
          "name": "stdout",
          "text": [
            "120\n"
          ]
        }
      ]
    },
    {
      "cell_type": "code",
      "source": [
        "sum = 0\n",
        "for i in range(2,10):\n",
        "  sum += i\n",
        "print(sum)"
      ],
      "metadata": {
        "colab": {
          "base_uri": "https://localhost:8080/"
        },
        "id": "6P5P5glc-xrf",
        "outputId": "9487d289-a2b6-484d-a3ac-b4e9b40acf82"
      },
      "execution_count": 2,
      "outputs": [
        {
          "output_type": "stream",
          "name": "stdout",
          "text": [
            "44\n"
          ]
        }
      ]
    },
    {
      "cell_type": "code",
      "source": [
        "fact_reverse = 1\n",
        "for m in range(5,0,-1):\n",
        "  fact_reverse *= m\n",
        "print(fact_reverse)"
      ],
      "metadata": {
        "colab": {
          "base_uri": "https://localhost:8080/"
        },
        "id": "Wxm9PpwAD0yi",
        "outputId": "6fb9381f-3969-4bb6-96a6-0a1f30f3adc1"
      },
      "execution_count": 11,
      "outputs": [
        {
          "output_type": "stream",
          "name": "stdout",
          "text": [
            "120\n"
          ]
        }
      ]
    }
  ]
}