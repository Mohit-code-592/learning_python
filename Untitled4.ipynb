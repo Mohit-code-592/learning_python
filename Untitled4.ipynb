{
  "nbformat": 4,
  "nbformat_minor": 0,
  "metadata": {
    "colab": {
      "provenance": [],
      "authorship_tag": "ABX9TyOp83FfI/a+xfgljyAuMcIR",
      "include_colab_link": true
    },
    "kernelspec": {
      "name": "python3",
      "display_name": "Python 3"
    },
    "language_info": {
      "name": "python"
    }
  },
  "cells": [
    {
      "cell_type": "markdown",
      "metadata": {
        "id": "view-in-github",
        "colab_type": "text"
      },
      "source": [
        "<a href=\"https://colab.research.google.com/github/Mohit-code-592/learning_python/blob/main/Untitled4.ipynb\" target=\"_parent\"><img src=\"https://colab.research.google.com/assets/colab-badge.svg\" alt=\"Open In Colab\"/></a>"
      ]
    },
    {
      "cell_type": "code",
      "execution_count": 3,
      "metadata": {
        "colab": {
          "base_uri": "https://localhost:8080/"
        },
        "id": "3eyJ_vL0PFuD",
        "outputId": "1b610e03-7244-4c11-8945-c06f22184c0c"
      },
      "outputs": [
        {
          "output_type": "stream",
          "name": "stdout",
          "text": [
            "Enter a year : 2100\n",
            "This is not a leap year\n"
          ]
        }
      ],
      "source": [
        "# year = int(input(\"Enter a year : \"))\n",
        "# if year % 400 == 0 or (year % 4 == 0 and year % 100 != 0):\n",
        "#   print(\"This year is a leap year\")\n",
        "# else :\n",
        "#   print(\"This is not a leap year\")"
      ]
    },
    {
      "cell_type": "code",
      "source": [
        "P = 1000\n",
        "R = 4\n",
        "T_month = 5\n",
        "SI_month = (P * R * T_month)/100\n",
        "T_days = 24\n",
        "\n",
        "month_name = input(\"Enter month : \")\n",
        "year = int(input(\"Enter a year : \"))\n",
        "\n",
        "if month_name == \"jan\" or month_name == \"march\" or month_name == \"may\" or month_name == \"july\" or month_name == \"aug\" or month_name == \"oct\" or month_name == \"dec\" :\n",
        "  month_days = 31\n",
        "elif month_name == \"april\" or month_name == \"june\" or month_name == \"sep\" or month_name == \"nov\" :\n",
        "  month_days = 30\n",
        "else :\n",
        "  if year % 400 == 0 or (year % 4 == 0 and year % 100 != 0):\n",
        "    month_days = 29\n",
        "  else :\n",
        "    month_days = 28\n",
        "\n",
        "SI_days = (P * R  * (T_days/month_days))/100\n",
        "SI = SI_month + SI_days\n",
        "total_amount = SI + P\n",
        "print(f\"Simple interest is {SI}\")\n",
        "print(f\"Total Amount to pay {total_amount}\")"
      ],
      "metadata": {
        "colab": {
          "base_uri": "https://localhost:8080/"
        },
        "id": "5Kc5Qdw9fC0V",
        "outputId": "d259c9f3-ce7c-41aa-de3c-3ed7354e5cc9"
      },
      "execution_count": 5,
      "outputs": [
        {
          "output_type": "stream",
          "name": "stdout",
          "text": [
            "Enter month : feb\n",
            "Enter a year : 2004\n",
            "Simple interest is 233.10344827586206\n",
            "Total Amount to pay 1233.103448275862\n"
          ]
        }
      ]
    }
  ]
}