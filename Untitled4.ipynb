{
  "nbformat": 4,
  "nbformat_minor": 0,
  "metadata": {
    "colab": {
      "provenance": [],
      "authorship_tag": "ABX9TyPE53NYmORrsYFMn7gtVhLk",
      "include_colab_link": true
    },
    "kernelspec": {
      "name": "python3",
      "display_name": "Python 3"
    },
    "language_info": {
      "name": "python"
    }
  },
  "cells": [
    {
      "cell_type": "markdown",
      "metadata": {
        "id": "view-in-github",
        "colab_type": "text"
      },
      "source": [
        "<a href=\"https://colab.research.google.com/github/Mohit-code-592/learning_python/blob/main/Untitled4.ipynb\" target=\"_parent\"><img src=\"https://colab.research.google.com/assets/colab-badge.svg\" alt=\"Open In Colab\"/></a>"
      ]
    },
    {
      "cell_type": "code",
      "execution_count": 3,
      "metadata": {
        "colab": {
          "base_uri": "https://localhost:8080/"
        },
        "id": "3eyJ_vL0PFuD",
        "outputId": "1b610e03-7244-4c11-8945-c06f22184c0c"
      },
      "outputs": [
        {
          "output_type": "stream",
          "name": "stdout",
          "text": [
            "Enter a year : 2100\n",
            "This is not a leap year\n"
          ]
        }
      ],
      "source": [
        "year = int(input(\"Enter a year : \"))\n",
        "if year % 400 == 0 or (year % 4 == 0 and year % 100 != 0):\n",
        "  print(\"This year is a leap year\")\n",
        "else :\n",
        "  print(\"This is not a leap year\")"
      ]
    }
  ]
}