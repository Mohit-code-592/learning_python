{
  "nbformat": 4,
  "nbformat_minor": 0,
  "metadata": {
    "colab": {
      "provenance": [],
      "authorship_tag": "ABX9TyNlsQvQoZ3P3vgTK//CveWA",
      "include_colab_link": true
    },
    "kernelspec": {
      "name": "python3",
      "display_name": "Python 3"
    },
    "language_info": {
      "name": "python"
    }
  },
  "cells": [
    {
      "cell_type": "markdown",
      "metadata": {
        "id": "view-in-github",
        "colab_type": "text"
      },
      "source": [
        "<a href=\"https://colab.research.google.com/github/Mohit-code-592/learning_python/blob/main/Untitled3.ipynb\" target=\"_parent\"><img src=\"https://colab.research.google.com/assets/colab-badge.svg\" alt=\"Open In Colab\"/></a>"
      ]
    },
    {
      "cell_type": "code",
      "execution_count": null,
      "metadata": {
        "id": "qfm1-XrzGROE"
      },
      "outputs": [],
      "source": [
        "gender = input(\"Please Enter Your Gender (F/M/O) : \")\n",
        "age = int(input(\"enter your age : \"))\n",
        "\n",
        "if gender == \"F\" :\n",
        "  print(\"go to hotel A\")\n",
        "  if age <= 30 :\n",
        "    print(\"go to building A\")\n",
        "  else :\n",
        "    print(\"go to building B\")\n",
        "\n",
        "elif gender == \"M\" :\n",
        "  print(\"go to hotel B\")\n",
        "\n",
        "  if age <= 35 :\n",
        "    print(\"go to building A\")\n",
        "  else :\n",
        "    print(\"go to building B\")\n",
        "elif gender == \"O\" :\n",
        "  print(\"go to any\")\n",
        "  if age <= 30 :\n",
        "    print(\"go to building A\")\n",
        "  else :\n",
        "    print(\"go to building B\")\n",
        "\n",
        "else :\n",
        "  print(\"Invaild eror\")\n",
        "\n"
      ]
    },
    {
      "cell_type": "code",
      "source": [
        "id  = \"mohit\"\n",
        "password = \"mohit@123\"\n",
        "\n",
        "user_id = input(\"Enter your user_id :  \")\n",
        "user_pass = input(\"Enter your password : \")\n",
        "\n",
        "if user_id == id and user_pass == password :\n",
        "  print(\"login sucessful\")\n",
        "else :\n",
        "  print(\"not matched\")"
      ],
      "metadata": {
        "colab": {
          "base_uri": "https://localhost:8080/"
        },
        "id": "cY4_TpbWMvc2",
        "outputId": "06a367ee-5d54-4526-e45c-f69f18f3058e"
      },
      "execution_count": 2,
      "outputs": [
        {
          "output_type": "stream",
          "name": "stdout",
          "text": [
            "Enter your user_id :  344\n",
            "ENter your password : dfg\n",
            "not matched\n"
          ]
        }
      ]
    },
    {
      "cell_type": "code",
      "source": [],
      "metadata": {
        "id": "ug-3NIVYbNQ6"
      },
      "execution_count": null,
      "outputs": []
    },
    {
      "cell_type": "code",
      "source": [],
      "metadata": {
        "id": "jUH2hnEkbN1V"
      },
      "execution_count": null,
      "outputs": []
    },
    {
      "cell_type": "code",
      "source": [
        "a = 11\n",
        "b = 12\n",
        "c = 14\n",
        "if a > b and a > c:\n",
        "  print(\"a is largest\")\n",
        "elif b > a and b > c :\n",
        "  print(\"b is largest\")\n",
        "else :\n",
        "  print(\"c is largest\")"
      ],
      "metadata": {
        "colab": {
          "base_uri": "https://localhost:8080/"
        },
        "id": "j9S3EM9cOLIG",
        "outputId": "40082971-05a0-4833-ae0c-9d3b80e092e9"
      },
      "execution_count": 6,
      "outputs": [
        {
          "output_type": "stream",
          "name": "stdout",
          "text": [
            "c is largest\n"
          ]
        }
      ]
    }
  ]
}