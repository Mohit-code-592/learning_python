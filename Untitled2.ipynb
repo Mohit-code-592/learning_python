{
  "nbformat": 4,
  "nbformat_minor": 0,
  "metadata": {
    "colab": {
      "provenance": [],
      "authorship_tag": "ABX9TyO0dKwONQATZPdjOBIvBMsn",
      "include_colab_link": true
    },
    "kernelspec": {
      "name": "python3",
      "display_name": "Python 3"
    },
    "language_info": {
      "name": "python"
    }
  },
  "cells": [
    {
      "cell_type": "markdown",
      "metadata": {
        "id": "view-in-github",
        "colab_type": "text"
      },
      "source": [
        "<a href=\"https://colab.research.google.com/github/Mohit-code-592/learning_python/blob/main/Untitled2.ipynb\" target=\"_parent\"><img src=\"https://colab.research.google.com/assets/colab-badge.svg\" alt=\"Open In Colab\"/></a>"
      ]
    },
    {
      "cell_type": "code",
      "execution_count": null,
      "metadata": {
        "id": "bNyDV7WYHZsl"
      },
      "outputs": [],
      "source": [
        "gender = input(\"Please Enter Your Gender (F/M/O) : \")\n",
        "if gender == \"F\" :\n",
        "  print(\"go to hotel A\")\n",
        "elif gender == \"M\" :\n",
        "  print(\"go to hotel B\")\n",
        "elif gender == \"O\" :\n",
        "  print(\"go to any\")\n",
        "else :\n",
        "  print(\"Invaild eror\")\n"
      ]
    }
  ]
}