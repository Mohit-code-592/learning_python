{
  "nbformat": 4,
  "nbformat_minor": 0,
  "metadata": {
    "colab": {
      "provenance": [],
      "authorship_tag": "ABX9TyOvJoKRWIcrIy8UGJU8Oeg7",
      "include_colab_link": true
    },
    "kernelspec": {
      "name": "python3",
      "display_name": "Python 3"
    },
    "language_info": {
      "name": "python"
    }
  },
  "cells": [
    {
      "cell_type": "markdown",
      "metadata": {
        "id": "view-in-github",
        "colab_type": "text"
      },
      "source": [
        "<a href=\"https://colab.research.google.com/github/Mohit-code-592/learning_python/blob/main/Untitled2.ipynb\" target=\"_parent\"><img src=\"https://colab.research.google.com/assets/colab-badge.svg\" alt=\"Open In Colab\"/></a>"
      ]
    },
    {
      "cell_type": "code",
      "execution_count": null,
      "metadata": {
        "id": "bNyDV7WYHZsl"
      },
      "outputs": [],
      "source": [
        "gender = input(\"Please Enter Your Gender (F/M/O) : \")\n",
        "if gender == \"F\" :\n",
        "  print(\"go to hotel A\")\n",
        "elif gender == \"M\" :\n",
        "  print(\"go to hotel B\")\n",
        "elif gender == \"O\" :\n",
        "  print(\"go to any\")\n",
        "else :\n",
        "  print(\"Invaild eror\")\n"
      ]
    },
    {
      "cell_type": "code",
      "source": [
        "marks = int(input(\"enter your marks : \"))\n",
        "if marks > 80 and marks <= 100:\n",
        "  print(\"A\")\n",
        "elif marks > 60 :\n",
        "  print(\"B\")\n",
        "elif marks  > 40 :\n",
        "  print(\"C\")\n",
        "elif marks < 40 :\n",
        "  print(\"F\")\n",
        "else :\n",
        "  print(\"Please enter you correct marks\")"
      ],
      "metadata": {
        "colab": {
          "base_uri": "https://localhost:8080/"
        },
        "id": "E9HtTJgHJB-s",
        "outputId": "697a36d4-aef4-450c-a8ca-7704c3f513fb"
      },
      "execution_count": 5,
      "outputs": [
        {
          "output_type": "stream",
          "name": "stdout",
          "text": [
            "enter your marks : 100\n",
            "A\n"
          ]
        }
      ]
    }
  ]
}